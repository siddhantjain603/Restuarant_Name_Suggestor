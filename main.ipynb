{
 "cells": [
  {
   "cell_type": "code",
   "execution_count": 1,
   "metadata": {},
   "outputs": [],
   "source": [
    "from dotenv import load_dotenv\n",
    "import os\n",
    "from langchain_openai import OpenAI"
   ]
  },
  {
   "cell_type": "code",
   "execution_count": 2,
   "metadata": {},
   "outputs": [],
   "source": [
    "# Calling api key from .env\n",
    "load_dotenv()\n",
    "apikey = os.getenv  ('OPENAI_API_KEY')\n",
    "llm = OpenAI(temperature=0.7)"
   ]
  },
  {
   "cell_type": "code",
   "execution_count": 3,
   "metadata": {},
   "outputs": [
    {
     "name": "stderr",
     "output_type": "stream",
     "text": [
      "/home/computervision/Desktop/siddhant/my_work/langchain/venv/lib/python3.10/site-packages/langchain_core/_api/deprecation.py:119: LangChainDeprecationWarning: The method `BaseLLM.__call__` was deprecated in langchain-core 0.1.7 and will be removed in 0.3.0. Use invoke instead.\n",
      "  warn_deprecated(\n"
     ]
    },
    {
     "name": "stdout",
     "output_type": "stream",
     "text": [
      "\n",
      "\n",
      "\"Maharaja's Palace\"\n"
     ]
    }
   ],
   "source": [
    "name = llm(\"I want to open a restuarant for Indian food. Suggest a fancy name for this.\")\n",
    "print(name)"
   ]
  },
  {
   "cell_type": "code",
   "execution_count": 6,
   "metadata": {},
   "outputs": [
    {
     "name": "stdout",
     "output_type": "stream",
     "text": [
      "I want to open a restuarant for Mexican food. Suggest a fancy name for this.\n"
     ]
    }
   ],
   "source": [
    "from langchain.prompts import PromptTemplate\n",
    "\n",
    "name_prompt_template = PromptTemplate(\n",
    "    input_variables=['cuisine'],\n",
    "    template=\"I want to open a restuarant for {cuisine} food. Suggest a fancy name for this.\"\n",
    ")\n",
    "\n",
    "print(name_prompt_template.format(cuisine=\"Mexican\"))"
   ]
  },
  {
   "cell_type": "code",
   "execution_count": 7,
   "metadata": {},
   "outputs": [
    {
     "name": "stderr",
     "output_type": "stream",
     "text": [
      "/home/computervision/Desktop/siddhant/my_work/langchain/venv/lib/python3.10/site-packages/langchain_core/_api/deprecation.py:119: LangChainDeprecationWarning: The class `LLMChain` was deprecated in LangChain 0.1.17 and will be removed in 0.3.0. Use RunnableSequence, e.g., `prompt | llm` instead.\n",
      "  warn_deprecated(\n",
      "/home/computervision/Desktop/siddhant/my_work/langchain/venv/lib/python3.10/site-packages/langchain_core/_api/deprecation.py:119: LangChainDeprecationWarning: The method `Chain.run` was deprecated in langchain 0.1.0 and will be removed in 0.3.0. Use invoke instead.\n",
      "  warn_deprecated(\n"
     ]
    },
    {
     "data": {
      "text/plain": [
       "'\\n\\n\"El Fuego Dorado\" (The Golden Fire)'"
      ]
     },
     "execution_count": 7,
     "metadata": {},
     "output_type": "execute_result"
    }
   ],
   "source": [
    "from langchain.chains import LLMChain\n",
    "\n",
    "chain = LLMChain(llm=llm, prompt= name_prompt_template)\n",
    "chain.run(\"Mexican\")"
   ]
  },
  {
   "cell_type": "code",
   "execution_count": 8,
   "metadata": {},
   "outputs": [
    {
     "name": "stderr",
     "output_type": "stream",
     "text": [
      "/home/computervision/Desktop/siddhant/my_work/langchain/venv/lib/python3.10/site-packages/langchain_core/_api/deprecation.py:119: LangChainDeprecationWarning: The method `Chain.__call__` was deprecated in langchain 0.1.0 and will be removed in 0.3.0. Use invoke instead.\n",
      "  warn_deprecated(\n"
     ]
    },
    {
     "name": "stdout",
     "output_type": "stream",
     "text": [
      "{'cuisine': 'Chinese', 'restuarant_name': '\\n\\n\"Jade Palace Chinese Cuisine\"', 'menu_items': \"\\n\\n1. General Tso's Chicken\\n2. Kung Pao Shrimp\\n3. Beef and Broccoli\\n4. Sweet and Sour Pork\\n5. Vegetable Lo Mein\\n6. Fried Rice\\n7. Egg Rolls\\n8. Crab Rangoon\\n9. Hot and Sour Soup\\n10. Orange Chicken \\n\"}\n"
     ]
    }
   ],
   "source": [
    "from langchain.chains import SequentialChain\n",
    "\n",
    "name_prompt_template = PromptTemplate(\n",
    "    input_variables= ['cuisine'],\n",
    "    template = \"I want to open a restuarant for {cuisine} food. Suggest a fency name for this.\"\n",
    "    )\n",
    "\n",
    "name_chain = LLMChain(llm=llm,prompt=name_prompt_template,output_key=\"restuarant_name\")\n",
    "menu_item_template = PromptTemplate(\n",
    "input_variables=['restuarant_name'],\n",
    "template = \"Suggest some menu items for {restuarant_name}. Return it as a comma seperated list.\"\n",
    ")\n",
    "menu_chain = LLMChain(llm=llm,prompt=menu_item_template, output_key=\"menu_items\")\n",
    "final_chain = SequentialChain(\n",
    "chains=[name_chain,menu_chain],\n",
    "input_variables=[\"cuisine\"],\n",
    "output_variables = [\"restuarant_name\",\"menu_items\"]\n",
    ")\n",
    "response = final_chain({'cuisine':\"Chinese\"})\n",
    "print(response)"
   ]
  },
  {
   "cell_type": "code",
   "execution_count": null,
   "metadata": {},
   "outputs": [],
   "source": []
  }
 ],
 "metadata": {
  "kernelspec": {
   "display_name": "base",
   "language": "python",
   "name": "python3"
  },
  "language_info": {
   "codemirror_mode": {
    "name": "ipython",
    "version": 3
   },
   "file_extension": ".py",
   "mimetype": "text/x-python",
   "name": "python",
   "nbconvert_exporter": "python",
   "pygments_lexer": "ipython3",
   "version": "3.10.0"
  }
 },
 "nbformat": 4,
 "nbformat_minor": 2
}
